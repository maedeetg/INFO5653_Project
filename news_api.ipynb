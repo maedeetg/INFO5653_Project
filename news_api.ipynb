{
 "cells": [
  {
   "cell_type": "code",
   "execution_count": 1,
   "id": "b39ac570-4a69-4bef-8919-e3310656b45f",
   "metadata": {},
   "outputs": [],
   "source": [
    "import requests\n",
    "import json\n",
    "import re\n",
    "import pandas as pd\n",
    "import sklearn\n",
    "import os\n",
    "import nltk\n",
    "import string\n",
    "import newspaper\n",
    "\n",
    "from sklearn.feature_extraction.text import CountVectorizer\n",
    "from sklearn.feature_extraction.text import TfidfVectorizer\n",
    "from nltk.stem import PorterStemmer\n",
    "from nltk.tokenize import sent_tokenize, word_tokenize\n",
    "from nltk.probability import FreqDist\n",
    "from nltk.stem.wordnet import WordNetLemmatizer\n",
    "from nltk.stem.porter import PorterStemmer\n",
    "from newspaper import Article"
   ]
  },
  {
   "cell_type": "code",
   "execution_count": 2,
   "id": "e9df3d19-879e-4c74-83ff-8477b94fa868",
   "metadata": {},
   "outputs": [],
   "source": [
    "########## BUILD CSV WITH LABELS, DESCRIPTION, AND CONTENT ##########\n",
    "\n",
    "api_key = \"4fe8b78ffdb64b0fb8dbfda6a3ba99f6\"\n",
    "url = \"https://newsapi.org/v2/everything\"\n",
    "\n",
    "url_paul = (\"https://newsapi.org/v2/everything?q=McCartney&domains=rollingstone.com&langauge=en&apiKey=4fe8b78ffdb64b0fb8dbfda6a3ba99f6\")\n",
    "url_john = (\"https://newsapi.org/v2/everything?q=Lennon&domains=rollingstone.com&langauge=en&apiKey=4fe8b78ffdb64b0fb8dbfda6a3ba99f6\")\n",
    "\n",
    "params_paul = {\"q\": \"Paul McCartney\",\n",
    "               \"language\": \"en\",\n",
    "               \"sortBy\": \"publishedAt\",\n",
    "               \"apiKey\": api_key}\n",
    "\n",
    "params_john = {\"q\": \"John Lennon\",\n",
    "               \"language\": \"en\",\n",
    "               \"sortBy\": \"publishedAt\",\n",
    "               \"apiKey\": api_key}\n",
    "\n",
    "response_paul = requests.get(url_paul)\n",
    "response_john = requests.get(url_john)\n",
    "\n",
    "if response_paul.status_code == 200:\n",
    "    json_txt_paul = response_paul.json()\n",
    "    paul_articles = json_txt_paul.get(\"articles\", [])\n",
    "    df_paul = pd.DataFrame(paul_articles)\n",
    "\n",
    "else:\n",
    "    print(f\"Error: {response_paul.status_code}, {response_paul.text}\")\n",
    "\n",
    "df_paul['full_text'] = df_paul['url'].apply(lambda url: (lambda a: (a.download(), a.parse(), a.text)[2])(Article(url)))\n",
    "df_paul['label'] = len(df_paul)*['paul']\n",
    "\n",
    "if response_john.status_code == 200:\n",
    "    json_txt_john = response_john.json()\n",
    "    john_articles = json_txt_john.get(\"articles\", [])\n",
    "    df_john = pd.DataFrame(john_articles)\n",
    "\n",
    "else:\n",
    "    print(f\"Error: {response_john.status_code}, {response_john.text}\")\n",
    "\n",
    "df_john['full_text'] = df_john['url'].apply(lambda url: (lambda a: (a.download(), a.parse(), a.text)[2])(Article(url)))\n",
    "df_john['label'] = len(df_john)*['john']\n",
    "\n",
    "df_paul_john = pd.concat([df_paul, df_john])\n",
    "\n",
    "df_paul_john.to_csv(\"paul_john_articles.csv\", index = True)"
   ]
  },
  {
   "cell_type": "code",
   "execution_count": null,
   "id": "a82c7146-fb72-4174-bd54-14e2a18e601f",
   "metadata": {},
   "outputs": [],
   "source": []
  }
 ],
 "metadata": {
  "kernelspec": {
   "display_name": "Python 3 (ipykernel)",
   "language": "python",
   "name": "python3"
  },
  "language_info": {
   "codemirror_mode": {
    "name": "ipython",
    "version": 3
   },
   "file_extension": ".py",
   "mimetype": "text/x-python",
   "name": "python",
   "nbconvert_exporter": "python",
   "pygments_lexer": "ipython3",
   "version": "3.9.18"
  }
 },
 "nbformat": 4,
 "nbformat_minor": 5
}
