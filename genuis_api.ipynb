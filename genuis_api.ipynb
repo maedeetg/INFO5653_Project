{
 "cells": [
  {
   "cell_type": "code",
   "execution_count": 1,
   "id": "3f8a401d-799d-4882-82a1-ea380231df77",
   "metadata": {},
   "outputs": [],
   "source": [
    "# Make HTTP requests\n",
    "import requests\n",
    "# Scrape data from an HTML document\n",
    "from bs4 import BeautifulSoup\n",
    "# I/O\n",
    "import os\n",
    "# Search and manipulate strings\n",
    "import re"
   ]
  },
  {
   "cell_type": "code",
   "execution_count": 2,
   "id": "f7ae734d-4b5b-455e-b5eb-2796704965fd",
   "metadata": {},
   "outputs": [],
   "source": [
    "client_id = \"yxeLnXDdwoDJunEPDRUgYVmH-I703sGZKWGoCdKbFNupYKHugalkOVqtzh3aSe82\"\n",
    "client_secret = \"zd3utRAeYAprwImrgEPERa6BPjNrJMOcg4ogsbTAR-uCoIoh9zu28ufhMVRYlBTpb8kSHkWK75LDrHSerdEOag\"\n",
    "client_access_token = \"wVsdPF-_vbLLypQZ3qaR0EwytwJW2jKBsK-PoZwv6BDKQLDK0gkUwstOYuH-EDD2\""
   ]
  },
  {
   "cell_type": "code",
   "execution_count": 27,
   "id": "01a8e157-809a-4650-b8b9-28a5b2a6159c",
   "metadata": {},
   "outputs": [],
   "source": [
    "# Get artist object from Genius API\n",
    "def request_artist_info(artist_name, page):\n",
    "    base_url = 'https://api.genius.com'\n",
    "    headers = {'Authorization': 'Bearer ' + client_access_token}\n",
    "    search_url = base_url + '/search?per_page=10&page=' + str(page)\n",
    "    data = {'q': artist_name}\n",
    "    response = requests.get(search_url, data = data, headers = headers)\n",
    "    return response\n",
    "\n",
    "#request_artist_info(\"Chappell Roan\", 1)\n",
    "def request_song_url(artist_name, num_songs):\n",
    "    page = 1\n",
    "    urls = []\n",
    "    \n",
    "    while True:\n",
    "        response = request_artist_info(artist_name, page)\n",
    "        json = response.json()\n",
    "        \n",
    "        # Collect up to num_songs song objects from artist\n",
    "        urls_info = []\n",
    "        for hit in json['response']['hits']:\n",
    "            if artist_name.lower() in hit['result']['primary_artist']['name'].lower():\n",
    "                urls_info.append(hit)\n",
    "    \n",
    "        # Collect song URL's from song objects\n",
    "        for info in urls_info:\n",
    "            if (len(urls) < num_songs):\n",
    "                url = info['result']['url']\n",
    "                urls.append(url)\n",
    "            \n",
    "        if (len(urls) == num_songs):\n",
    "            break\n",
    "        else:\n",
    "            page += 1\n",
    "\n",
    "    # Now find each song title from each url\n",
    "    track_titles = []\n",
    "    for url in urls:\n",
    "        match = re.search(r'The-beatles-(.*?)-lyrics', url)\n",
    "        \n",
    "        if match:\n",
    "            # Save each title\n",
    "            title = match.group(1)\n",
    "    \n",
    "            # Append to track_titles\n",
    "            track_titles.append(title) \n",
    "           \n",
    "    return [urls, track_titles]\n",
    "\n",
    "[urls, track_titles] = request_song_url(\"The Beatles\", 200)"
   ]
  },
  {
   "cell_type": "code",
   "execution_count": 28,
   "id": "16743177-e618-4f4a-8f0a-e227dda4b441",
   "metadata": {},
   "outputs": [],
   "source": [
    "# Scrape lyrics from a Genius.com song URL\n",
    "def scrape_song_lyrics(url):\n",
    "    song = requests.get(url)\n",
    "    html = BeautifulSoup(song.content, 'html.parser')\n",
    "    lyrics_divs = html.find_all(\"div\", {\"data-lyrics-container\": \"true\"})\n",
    "    \n",
    "    if lyrics_divs:\n",
    "        lyrics = \"\\n\".join(div.get_text(separator=\"\\n\") for div in lyrics_divs)\n",
    "    else:\n",
    "        print(\"Lyrics not found!\")\n",
    "        \n",
    "    # Remove identifiers like chorus, verse, etc\n",
    "    lyrics = re.sub(r'[\\(\\[].*?[\\)\\]]', '', lyrics, flags=re.DOTALL).strip()\n",
    "    \n",
    "    # Remove empty lines\n",
    "    lyrics = os.linesep.join([s for s in lyrics.splitlines() if s])  \n",
    "    \n",
    "    return lyrics"
   ]
  },
  {
   "cell_type": "code",
   "execution_count": 30,
   "id": "745c4d5c-c858-4ef7-b958-eab1a5a48b48",
   "metadata": {},
   "outputs": [
    {
     "name": "stdout",
     "output_type": "stream",
     "text": [
      "Lyrics not found!\n"
     ]
    },
    {
     "ename": "UnboundLocalError",
     "evalue": "local variable 'lyrics' referenced before assignment",
     "output_type": "error",
     "traceback": [
      "\u001b[1;31m---------------------------------------------------------------------------\u001b[0m",
      "\u001b[1;31mUnboundLocalError\u001b[0m                         Traceback (most recent call last)",
      "Cell \u001b[1;32mIn[30], line 20\u001b[0m\n\u001b[0;32m     17\u001b[0m         my_file\u001b[38;5;241m.\u001b[39mclose()\n\u001b[0;32m     19\u001b[0m mypath \u001b[38;5;241m=\u001b[39m \u001b[38;5;124m\"\u001b[39m\u001b[38;5;124mC:/Users/maede/Downloads/Python/INFO5653/Project/Project_Part1/Lyrics_Corpus\u001b[39m\u001b[38;5;124m\"\u001b[39m\n\u001b[1;32m---> 20\u001b[0m \u001b[43mwrite_lyrics_to_corpus\u001b[49m\u001b[43m(\u001b[49m\u001b[43murls\u001b[49m\u001b[43m,\u001b[49m\u001b[43m \u001b[49m\u001b[43mtrack_titles\u001b[49m\u001b[43m,\u001b[49m\u001b[43m \u001b[49m\u001b[43mmypath\u001b[49m\u001b[43m)\u001b[49m\n",
      "Cell \u001b[1;32mIn[30], line 15\u001b[0m, in \u001b[0;36mwrite_lyrics_to_corpus\u001b[1;34m(urls, track_names, path)\u001b[0m\n\u001b[0;32m     12\u001b[0m my_file \u001b[38;5;241m=\u001b[39m \u001b[38;5;28mopen\u001b[39m(filename, \u001b[38;5;124m\"\u001b[39m\u001b[38;5;124mw\u001b[39m\u001b[38;5;124m\"\u001b[39m, encoding \u001b[38;5;241m=\u001b[39m \u001b[38;5;124m\"\u001b[39m\u001b[38;5;124mutf-8\u001b[39m\u001b[38;5;124m\"\u001b[39m)\n\u001b[0;32m     14\u001b[0m \u001b[38;5;66;03m# Find lyrics\u001b[39;00m\n\u001b[1;32m---> 15\u001b[0m lyrics \u001b[38;5;241m=\u001b[39m \u001b[43mscrape_song_lyrics\u001b[49m\u001b[43m(\u001b[49m\u001b[43murl\u001b[49m\u001b[43m)\u001b[49m\n\u001b[0;32m     16\u001b[0m my_file\u001b[38;5;241m.\u001b[39mwrite(lyrics)\n\u001b[0;32m     17\u001b[0m my_file\u001b[38;5;241m.\u001b[39mclose()\n",
      "Cell \u001b[1;32mIn[28], line 13\u001b[0m, in \u001b[0;36mscrape_song_lyrics\u001b[1;34m(url)\u001b[0m\n\u001b[0;32m     10\u001b[0m     \u001b[38;5;28mprint\u001b[39m(\u001b[38;5;124m\"\u001b[39m\u001b[38;5;124mLyrics not found!\u001b[39m\u001b[38;5;124m\"\u001b[39m)\n\u001b[0;32m     12\u001b[0m \u001b[38;5;66;03m# Remove identifiers like chorus, verse, etc\u001b[39;00m\n\u001b[1;32m---> 13\u001b[0m lyrics \u001b[38;5;241m=\u001b[39m re\u001b[38;5;241m.\u001b[39msub(\u001b[38;5;124mr\u001b[39m\u001b[38;5;124m'\u001b[39m\u001b[38;5;124m[\u001b[39m\u001b[38;5;124m\\\u001b[39m\u001b[38;5;124m(\u001b[39m\u001b[38;5;124m\\\u001b[39m\u001b[38;5;124m[].*?[\u001b[39m\u001b[38;5;124m\\\u001b[39m\u001b[38;5;124m)\u001b[39m\u001b[38;5;124m\\\u001b[39m\u001b[38;5;124m]]\u001b[39m\u001b[38;5;124m'\u001b[39m, \u001b[38;5;124m'\u001b[39m\u001b[38;5;124m'\u001b[39m, \u001b[43mlyrics\u001b[49m, flags\u001b[38;5;241m=\u001b[39mre\u001b[38;5;241m.\u001b[39mDOTALL)\u001b[38;5;241m.\u001b[39mstrip()\n\u001b[0;32m     15\u001b[0m \u001b[38;5;66;03m# Remove empty lines\u001b[39;00m\n\u001b[0;32m     16\u001b[0m lyrics \u001b[38;5;241m=\u001b[39m os\u001b[38;5;241m.\u001b[39mlinesep\u001b[38;5;241m.\u001b[39mjoin([s \u001b[38;5;28;01mfor\u001b[39;00m s \u001b[38;5;129;01min\u001b[39;00m lyrics\u001b[38;5;241m.\u001b[39msplitlines() \u001b[38;5;28;01mif\u001b[39;00m s])  \n",
      "\u001b[1;31mUnboundLocalError\u001b[0m: local variable 'lyrics' referenced before assignment"
     ]
    }
   ],
   "source": [
    "def write_lyrics_to_corpus(urls, track_names, path):\n",
    "    for i in range(len(urls)):\n",
    "        # Get url and title\n",
    "        url = urls[i]\n",
    "        title = track_titles[i]\n",
    "    \n",
    "        # Create file, mypath, and filename\n",
    "        file = str(title) + \".txt\"\n",
    "        filename = mypath + \"/\" + file\n",
    "    \n",
    "        # Open file to write to\n",
    "        my_file = open(filename, \"w\", encoding = \"utf-8\")\n",
    "    \n",
    "        # Find lyrics\n",
    "        lyrics = scrape_song_lyrics(url)\n",
    "        my_file.write(lyrics)\n",
    "        my_file.close()\n",
    "\n",
    "mypath = \"C:/Users/maede/Downloads/Python/INFO5653/Project/Project_Part1/Lyrics_Corpus\"\n",
    "write_lyrics_to_corpus(urls, track_titles, mypath)"
   ]
  },
  {
   "cell_type": "code",
   "execution_count": null,
   "id": "21be362f-c6d5-48d3-ad10-07fe1adb69a0",
   "metadata": {},
   "outputs": [],
   "source": []
  }
 ],
 "metadata": {
  "kernelspec": {
   "display_name": "Python 3 (ipykernel)",
   "language": "python",
   "name": "python3"
  },
  "language_info": {
   "codemirror_mode": {
    "name": "ipython",
    "version": 3
   },
   "file_extension": ".py",
   "mimetype": "text/x-python",
   "name": "python",
   "nbconvert_exporter": "python",
   "pygments_lexer": "ipython3",
   "version": "3.9.18"
  }
 },
 "nbformat": 4,
 "nbformat_minor": 5
}
