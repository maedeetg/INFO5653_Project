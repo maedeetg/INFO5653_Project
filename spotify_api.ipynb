{
 "cells": [
  {
   "cell_type": "code",
   "execution_count": 37,
   "id": "df961381-e223-429f-9c82-08a2d9bd065b",
   "metadata": {},
   "outputs": [],
   "source": [
    "import requests\n",
    "import json\n",
    "import base64\n",
    "import urllib.parse\n",
    "\n",
    "from requests import post, get"
   ]
  },
  {
   "cell_type": "code",
   "execution_count": 38,
   "id": "a75f2e25-4919-477a-8d04-e57a2bf63320",
   "metadata": {},
   "outputs": [],
   "source": [
    "client_id = \"5d38bc500c7541c2a2a407af5adb26a8\"\n",
    "client_secret = \"f6c6b5e586af4ed4ae6ab479f75d9d7e\""
   ]
  },
  {
   "cell_type": "code",
   "execution_count": 39,
   "id": "ea893bf2-2b27-4ff1-b686-f5346c53ce71",
   "metadata": {},
   "outputs": [],
   "source": [
    "def get_token():\n",
    "    auth_string = client_id + \":\" + client_secret\n",
    "    auth_bytes = auth_string.encode(\"utf-8\")\n",
    "    auth_base64 = str(base64.b64encode(auth_bytes), \"utf-8\")\n",
    "\n",
    "    url = \"https://accounts.spotify.com/api/token\"\n",
    "    headers = {\"Authorization\": \"Basic \" + auth_base64,\n",
    "               \"Content-Type\": \"application/x-www-form-urlencoded\"}\n",
    "    data = {\"grant_type\":\"client_credentials\"}\n",
    "\n",
    "    result = post(url, headers = headers, data = data)\n",
    "    json_result = json.loads(result.content)\n",
    "    token = json_result[\"access_token\"]\n",
    "    \n",
    "    return token"
   ]
  },
  {
   "cell_type": "code",
   "execution_count": 40,
   "id": "14fb0da9-56e1-4f26-b68a-374fda741644",
   "metadata": {},
   "outputs": [],
   "source": [
    "def get_auth_header(token):\n",
    "    return {\"Authorization\": \"Bearer \" + token}"
   ]
  },
  {
   "cell_type": "code",
   "execution_count": 41,
   "id": "6d7be12b-5065-4743-8156-95404db2f41a",
   "metadata": {},
   "outputs": [],
   "source": [
    "def search_for_artist(token, artist_name):\n",
    "    url = \"https://api.spotify.com/v1/search\"\n",
    "    headers = get_auth_header(token)\n",
    "    query = f\"?q={artist_name}&type=artist&limit=1\"\n",
    "\n",
    "    query_url = url + query\n",
    "    result = get(query_url, headers = headers)\n",
    "    json_result = json.loads(result.content)[\"artists\"][\"items\"]\n",
    "\n",
    "    if len(json_result) == 0:\n",
    "        print(\"No artist with this name exists\")\n",
    "        return None\n",
    "        \n",
    "    return json_result[0]"
   ]
  },
  {
   "cell_type": "code",
   "execution_count": 42,
   "id": "26639e92-d11f-4e98-909d-c21370140846",
   "metadata": {},
   "outputs": [],
   "source": [
    "def get_albums_by_artist(token, artist_id):\n",
    "    url = f\"https://api.spotify.com/v1/artists/{artist_id}/albums\"\n",
    "    headers = get_auth_header(token)\n",
    "    \n",
    "    result = get(url, headers = headers)\n",
    "    json_result = json.loads(result.content)\n",
    "\n",
    "    return json_result"
   ]
  },
  {
   "cell_type": "code",
   "execution_count": 43,
   "id": "ccaa5f57-ae74-4568-ac74-5a1ae47566ca",
   "metadata": {},
   "outputs": [],
   "source": [
    "def get_tracks_by_album(token, album_id):\n",
    "    url = f\"https://api.spotify.com/v1/albums/{album_id}/tracks\"\n",
    "    headers = get_auth_header(token)\n",
    "    \n",
    "    result = get(url, headers = headers)\n",
    "    json_result = json.loads(result.content)\n",
    "    \n",
    "    return json_result"
   ]
  },
  {
   "cell_type": "code",
   "execution_count": 55,
   "id": "9828826f-41dd-4654-bcf3-0cde8ceeab86",
   "metadata": {},
   "outputs": [],
   "source": [
    "# Get all of Paul McCartney's music data\n",
    "token = get_token()\n",
    "\n",
    "# Create new file that will be written later. \n",
    "filename = \"paul_john_album_songs.csv\"\n",
    "\n",
    "# Open file \n",
    "my_file = open(filename,\"w\", encoding=\"utf-8\")\n",
    "\n",
    "# Write column names in first row\n",
    "write_this = \"Artist, Album, Track \\n\"\n",
    "my_file.write(write_this)\n",
    "my_file.close()\n",
    "\n",
    "artist = search_for_artist(token, \"Paul McCartney\")\n",
    "artist_id = artist[\"id\"]\n",
    "albums = get_albums_by_artist(token, artist_id)\n",
    "\n",
    "# Open file for appending to\n",
    "my_file = open(filename, \"a\", encoding=\"utf-8\")\n",
    "\n",
    "for i in range(len(albums['items'])):\n",
    "    # Define artist, this is our label\n",
    "    artist = \"Paul McCartney\"\n",
    "\n",
    "    # Define album name\n",
    "    album = albums['items'][i]['name']\n",
    "\n",
    "    # Get tracks from album\n",
    "    album_id = albums['items'][i]['id']\n",
    "    tracks = get_tracks_by_album(token, album_id)\n",
    "\n",
    "    for j in range(len(tracks['items'])):\n",
    "        track = tracks['items'][j]['name'] \n",
    "\n",
    "        write_this = str(artist) + \",\" + str(album) + \",\" + str(track) + \"\\n\"\n",
    "        my_file.write(write_this)\n",
    "    \n",
    "my_file.close()\n",
    "\n",
    "# Now John Lennon\n",
    "artist = search_for_artist(token, \"John Lennon\")\n",
    "artist_id = artist[\"id\"]\n",
    "albums = get_albums_by_artist(token, artist_id)\n",
    "\n",
    "# Open file for appending to\n",
    "my_file = open(filename, \"a\", encoding=\"utf-8\")\n",
    "\n",
    "for i in range(len(albums['items'])):\n",
    "    # Define artist, this is our label\n",
    "    artist = \"John Lennon\"\n",
    "\n",
    "    # Define album name\n",
    "    album = albums['items'][i]['name']\n",
    "\n",
    "    # Get tracks from album\n",
    "    album_id = albums['items'][i]['id']\n",
    "    tracks = get_tracks_by_album(token, album_id)\n",
    "\n",
    "    for j in range(len(tracks['items'])):\n",
    "        track = tracks['items'][j]['name'] \n",
    "\n",
    "        write_this = str(artist) + \",\" + str(album) + \",\" + str(track) + \"\\n\"\n",
    "        my_file.write(write_this)\n",
    "    \n",
    "my_file.close()"
   ]
  },
  {
   "cell_type": "code",
   "execution_count": null,
   "id": "8610e347-eb6b-4f82-9bae-c8eda3b57172",
   "metadata": {},
   "outputs": [],
   "source": []
  }
 ],
 "metadata": {
  "kernelspec": {
   "display_name": "Python 3 (ipykernel)",
   "language": "python",
   "name": "python3"
  },
  "language_info": {
   "codemirror_mode": {
    "name": "ipython",
    "version": 3
   },
   "file_extension": ".py",
   "mimetype": "text/x-python",
   "name": "python",
   "nbconvert_exporter": "python",
   "pygments_lexer": "ipython3",
   "version": "3.9.18"
  }
 },
 "nbformat": 4,
 "nbformat_minor": 5
}
